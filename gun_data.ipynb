{
 "cells": [
  {
   "cell_type": "code",
   "execution_count": 1,
   "metadata": {},
   "outputs": [],
   "source": [
    "import pandas as pd\n",
    "import numpy as np"
   ]
  },
  {
   "cell_type": "code",
   "execution_count": 2,
   "metadata": {},
   "outputs": [],
   "source": [
    "gun_load = \"./Resources/gun_violence.csv\"\n",
    "gun_data = pd.read_csv(gun_load)"
   ]
  },
  {
   "cell_type": "code",
   "execution_count": 3,
   "metadata": {},
   "outputs": [],
   "source": [
    "gun_df = gun_data\n"
   ]
  },
  {
   "cell_type": "code",
   "execution_count": 4,
   "metadata": {
    "scrolled": true
   },
   "outputs": [
    {
     "data": {
      "text/html": [
       "<div>\n",
       "<style scoped>\n",
       "    .dataframe tbody tr th:only-of-type {\n",
       "        vertical-align: middle;\n",
       "    }\n",
       "\n",
       "    .dataframe tbody tr th {\n",
       "        vertical-align: top;\n",
       "    }\n",
       "\n",
       "    .dataframe thead th {\n",
       "        text-align: right;\n",
       "    }\n",
       "</style>\n",
       "<table border=\"1\" class=\"dataframe\">\n",
       "  <thead>\n",
       "    <tr style=\"text-align: right;\">\n",
       "      <th></th>\n",
       "      <th>Incident ID</th>\n",
       "      <th>Date</th>\n",
       "      <th>State</th>\n",
       "      <th>City or County</th>\n",
       "      <th>Killed</th>\n",
       "      <th>Injured</th>\n",
       "    </tr>\n",
       "  </thead>\n",
       "  <tbody>\n",
       "    <tr>\n",
       "      <th>0</th>\n",
       "      <td>461105</td>\n",
       "      <td>1/1/13</td>\n",
       "      <td>Pennsylvania</td>\n",
       "      <td>Mckeesport</td>\n",
       "      <td>0</td>\n",
       "      <td>4</td>\n",
       "    </tr>\n",
       "    <tr>\n",
       "      <th>1</th>\n",
       "      <td>460726</td>\n",
       "      <td>1/1/13</td>\n",
       "      <td>California</td>\n",
       "      <td>Hawthorne</td>\n",
       "      <td>1</td>\n",
       "      <td>3</td>\n",
       "    </tr>\n",
       "    <tr>\n",
       "      <th>2</th>\n",
       "      <td>478855</td>\n",
       "      <td>1/1/13</td>\n",
       "      <td>Ohio</td>\n",
       "      <td>Lorain</td>\n",
       "      <td>1</td>\n",
       "      <td>3</td>\n",
       "    </tr>\n",
       "    <tr>\n",
       "      <th>3</th>\n",
       "      <td>478925</td>\n",
       "      <td>1/5/13</td>\n",
       "      <td>Colorado</td>\n",
       "      <td>Aurora</td>\n",
       "      <td>4</td>\n",
       "      <td>0</td>\n",
       "    </tr>\n",
       "    <tr>\n",
       "      <th>4</th>\n",
       "      <td>478959</td>\n",
       "      <td>1/7/13</td>\n",
       "      <td>North Carolina</td>\n",
       "      <td>Greensboro</td>\n",
       "      <td>2</td>\n",
       "      <td>2</td>\n",
       "    </tr>\n",
       "  </tbody>\n",
       "</table>\n",
       "</div>"
      ],
      "text/plain": [
       "   Incident ID    Date           State City or County  Killed  Injured\n",
       "0       461105  1/1/13    Pennsylvania     Mckeesport       0        4\n",
       "1       460726  1/1/13      California      Hawthorne       1        3\n",
       "2       478855  1/1/13            Ohio         Lorain       1        3\n",
       "3       478925  1/5/13        Colorado         Aurora       4        0\n",
       "4       478959  1/7/13  North Carolina     Greensboro       2        2"
      ]
     },
     "execution_count": 4,
     "metadata": {},
     "output_type": "execute_result"
    }
   ],
   "source": [
    "gun_incident = gun_df[\"incident_id\"]\n",
    "gun_date = gun_df[\"date\"]\n",
    "gun_state = gun_df[\"state\"]\n",
    "gun_city_or_county = gun_df[\"city_or_county\"]\n",
    "gun_killed = gun_df[\"n_killed\"]\n",
    "gun_injured = gun_df[\"n_injured\"]\n",
    "gun_stolen = gun_df[\"gun_stolen\"]\n",
    "gun_type = gun_df[\"gun_type\"]\n",
    "gun_involved = gun_df[\"n_guns_involved\"]\n",
    "gun_gender = gun_df[\"participant_gender\"]\n",
    "gun_age = gun_df[\"participant_age\"]\n",
    "\n",
    "\n",
    "gun_data_df = pd.DataFrame({\n",
    "    \n",
    "    \"Incident ID\": gun_incident,\n",
    "    \"Date\": gun_date,\n",
    "    \"State\": gun_state,\n",
    "    \"City or County\": gun_city_or_county,\n",
    "    \"Killed\": gun_killed,\n",
    "    \"Injured\": gun_injured   \n",
    "})\n",
    "\n",
    "\n",
    "gun1_df = gun_data_df[[\"Incident ID\", \"Date\", \"State\", \"City or County\", \"Killed\", \"Injured\"]]\n",
    "gun1_df.head()\n"
   ]
  },
  {
   "cell_type": "code",
   "execution_count": 5,
   "metadata": {},
   "outputs": [],
   "source": [
    "gun1_df.set_index(\"State\", inplace=True)\n"
   ]
  },
  {
   "cell_type": "code",
   "execution_count": 6,
   "metadata": {},
   "outputs": [],
   "source": [
    "gun1_df.Date = pd.to_datetime(gun1_df.Date)"
   ]
  },
  {
   "cell_type": "code",
   "execution_count": 7,
   "metadata": {},
   "outputs": [
    {
     "data": {
      "text/html": [
       "<div>\n",
       "<style scoped>\n",
       "    .dataframe tbody tr th:only-of-type {\n",
       "        vertical-align: middle;\n",
       "    }\n",
       "\n",
       "    .dataframe tbody tr th {\n",
       "        vertical-align: top;\n",
       "    }\n",
       "\n",
       "    .dataframe thead th {\n",
       "        text-align: right;\n",
       "    }\n",
       "</style>\n",
       "<table border=\"1\" class=\"dataframe\">\n",
       "  <thead>\n",
       "    <tr style=\"text-align: right;\">\n",
       "      <th></th>\n",
       "      <th>Incident ID</th>\n",
       "      <th>Date</th>\n",
       "      <th>City or County</th>\n",
       "      <th>Killed</th>\n",
       "      <th>Injured</th>\n",
       "    </tr>\n",
       "    <tr>\n",
       "      <th>State</th>\n",
       "      <th></th>\n",
       "      <th></th>\n",
       "      <th></th>\n",
       "      <th></th>\n",
       "      <th></th>\n",
       "    </tr>\n",
       "  </thead>\n",
       "  <tbody>\n",
       "    <tr>\n",
       "      <th>Oklahoma</th>\n",
       "      <td>274168</td>\n",
       "      <td>2015-01-01</td>\n",
       "      <td>Tulsa</td>\n",
       "      <td>0</td>\n",
       "      <td>2</td>\n",
       "    </tr>\n",
       "    <tr>\n",
       "      <th>Louisiana</th>\n",
       "      <td>276211</td>\n",
       "      <td>2015-01-01</td>\n",
       "      <td>Labadieville</td>\n",
       "      <td>1</td>\n",
       "      <td>0</td>\n",
       "    </tr>\n",
       "    <tr>\n",
       "      <th>Mississippi</th>\n",
       "      <td>272302</td>\n",
       "      <td>2015-01-01</td>\n",
       "      <td>Hattiesburg</td>\n",
       "      <td>0</td>\n",
       "      <td>0</td>\n",
       "    </tr>\n",
       "    <tr>\n",
       "      <th>Alabama</th>\n",
       "      <td>272482</td>\n",
       "      <td>2015-01-01</td>\n",
       "      <td>Bessemer</td>\n",
       "      <td>0</td>\n",
       "      <td>2</td>\n",
       "    </tr>\n",
       "    <tr>\n",
       "      <th>Illinois</th>\n",
       "      <td>272487</td>\n",
       "      <td>2015-01-01</td>\n",
       "      <td>Chicago</td>\n",
       "      <td>0</td>\n",
       "      <td>1</td>\n",
       "    </tr>\n",
       "  </tbody>\n",
       "</table>\n",
       "</div>"
      ],
      "text/plain": [
       "             Incident ID       Date City or County  Killed  Injured\n",
       "State                                                              \n",
       "Oklahoma          274168 2015-01-01          Tulsa       0        2\n",
       "Louisiana         276211 2015-01-01   Labadieville       1        0\n",
       "Mississippi       272302 2015-01-01    Hattiesburg       0        0\n",
       "Alabama           272482 2015-01-01       Bessemer       0        2\n",
       "Illinois          272487 2015-01-01        Chicago       0        1"
      ]
     },
     "execution_count": 7,
     "metadata": {},
     "output_type": "execute_result"
    }
   ],
   "source": [
    "gun2_df = gun1_df[(gun1_df['Date'] >= '2015-01-01') & (gun1_df['Date'] <= '2015-12-31')]\n",
    "gun2_df.head()"
   ]
  },
  {
   "cell_type": "code",
   "execution_count": 8,
   "metadata": {},
   "outputs": [],
   "source": [
    "gun2_df = gun2_df.sort_values(\"Killed\").head(1000)"
   ]
  },
  {
   "cell_type": "code",
   "execution_count": 9,
   "metadata": {},
   "outputs": [],
   "source": [
    "# gun2_df.to_csv(\"./Resources/gun_df.csv\", header=True, index=True)"
   ]
  },
  {
   "cell_type": "code",
   "execution_count": 10,
   "metadata": {},
   "outputs": [],
   "source": [
    "import sqlalchemy\n",
    "from sqlalchemy.ext.automap import automap_base\n",
    "from sqlalchemy.orm import Session\n",
    "from sqlalchemy import create_engine, func"
   ]
  },
  {
   "cell_type": "code",
   "execution_count": 11,
   "metadata": {},
   "outputs": [],
   "source": [
    "engine = create_engine(\"sqlite:///Resources/state_violence.sqlite\")\n",
    "\n",
    "gun2_df.to_sql('gun_incidents', engine, if_exists='replace', index = True)"
   ]
  },
  {
   "cell_type": "code",
   "execution_count": null,
   "metadata": {},
   "outputs": [],
   "source": []
  },
  {
   "cell_type": "code",
   "execution_count": null,
   "metadata": {},
   "outputs": [],
   "source": []
  }
 ],
 "metadata": {
  "kernelspec": {
   "display_name": "Python 3",
   "language": "python",
   "name": "python3"
  },
  "language_info": {
   "codemirror_mode": {
    "name": "ipython",
    "version": 3
   },
   "file_extension": ".py",
   "mimetype": "text/x-python",
   "name": "python",
   "nbconvert_exporter": "python",
   "pygments_lexer": "ipython3",
   "version": "3.6.5"
  }
 },
 "nbformat": 4,
 "nbformat_minor": 2
}
